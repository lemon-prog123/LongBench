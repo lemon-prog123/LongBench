{
 "cells": [
  {
   "cell_type": "code",
   "execution_count": null,
   "id": "23e5236d-adcd-4a8b-a747-59642f51daa5",
   "metadata": {
    "scrolled": true
   },
   "outputs": [],
   "source": [
    "from datasets import load_dataset\n",
    "ds = load_dataset(\"deepmind/narrativeqa\")"
   ]
  },
  {
   "cell_type": "code",
   "execution_count": 2,
   "id": "8841d5b6-5172-4878-8464-d8f9ae6345de",
   "metadata": {},
   "outputs": [],
   "source": [
    "data = load_dataset('deepmind/narrativeqa', split='train')"
   ]
  },
  {
   "cell_type": "code",
   "execution_count": 10,
   "id": "46d5dd4c-8f0c-4f4b-b244-a927fd2862af",
   "metadata": {},
   "outputs": [],
   "source": [
    "prompt=\"You are given a story, which can be either a novel or a movie script, and a question. Answer the question asconcisely as you can, using a single phrase if possible. Do not provide any explanation.\\n\\nStory: {context}\\n\\nNow, answer the question based on the story asconcisely as you can, using a single phrase if possible. Do not provide any explanation.\\n\\nQuestion: {input}\\n\\nAnswer:\""
   ]
  },
  {
   "cell_type": "code",
   "execution_count": null,
   "id": "182d0e0a-efd7-4d18-b8ee-ab033b765553",
   "metadata": {},
   "outputs": [],
   "source": [
    "data[300]['document']['summary']['title']"
   ]
  },
  {
   "cell_type": "code",
   "execution_count": 11,
   "id": "6a42abe3-0ac1-4322-a7fd-9f5344fbc9d5",
   "metadata": {},
   "outputs": [],
   "source": [
    "lb = load_dataset('THUDM/LongBench', \"narrativeqa\", split='train')"
   ]
  },
  {
   "cell_type": "code",
   "execution_count": 3,
   "id": "3eb94309-148b-49e2-bcc7-7480ad780262",
   "metadata": {},
   "outputs": [],
   "source": [
    "from transformers import AutoTokenizer, AutoModelForCausalLM, DataCollatorForSeq2Seq, TrainingArguments, Trainer, GenerationConfig"
   ]
  },
  {
   "cell_type": "code",
   "execution_count": 5,
   "id": "6b9c06c4-a271-437e-98fc-a971c3a69c75",
   "metadata": {},
   "outputs": [],
   "source": [
    "mode_path = '/mnt/xiyu/Qwen/Qwen2___5-7B'\n",
    "tokenizer = AutoTokenizer.from_pretrained(mode_path, use_fast=False, trust_remote_code=True)\n",
    "tokenizer.pad_token = tokenizer.eos_token"
   ]
  },
  {
   "cell_type": "code",
   "execution_count": null,
   "id": "f6b54733-938a-48d9-a6aa-584e5e1daa71",
   "metadata": {},
   "outputs": [],
   "source": [
    "from tqdm import tqdm\n",
    "import json\n",
    "cnt=0\n",
    "all_length=0\n",
    "max_length=128000\n",
    "paper_ids=[]\n",
    "papers={}\n",
    "for json_obj in tqdm(data):\n",
    "    unique_id=json_obj['document']['id']\n",
    "    if unique_id not in paper_ids:\n",
    "        paper_ids.append(unique_id)\n",
    "        tokenized_paper=tokenizer(json_obj['document']['text'], truncation=False, return_tensors=\"pt\").input_ids[0]\n",
    "        if len(tokenized_paper) > max_length:\n",
    "            half = int(max_length/2)\n",
    "            new_paper = tokenizer.decode(tokenized_paper[:half], skip_special_tokens=True)+tokenizer.decode(tokenized_paper[-half:], skip_special_tokens=True)\n",
    "        else:\n",
    "            new_paper=json_obj['document']['text']\n",
    "        papers[unique_id]=new_paper\n",
    "with open(f'dataset/narrativeqa_tokenized.json', \"w\", encoding=\"utf-8\") as f:\n",
    "    json.dump(papers, f, ensure_ascii=False)"
   ]
  },
  {
   "cell_type": "code",
   "execution_count": 7,
   "id": "2d66ee5c-a02d-4bbc-bb84-d16d34297968",
   "metadata": {},
   "outputs": [],
   "source": [
    "from tqdm import tqdm\n",
    "import json\n",
    "paper_dict={}\n",
    "with open(f'dataset/narrativeqa_tokenized.json', \"r\", encoding=\"utf-8\") as f:\n",
    "    paper_dict=json.load(f)"
   ]
  },
  {
   "cell_type": "code",
   "execution_count": null,
   "id": "34e6bded-5a92-4677-8122-1b907094831e",
   "metadata": {},
   "outputs": [],
   "source": [
    "train_dataset=[]\n",
    "prompt_format=\"You are given a story, which can be either a novel or a movie script, and a question. Answer the question asconcisely as you can, using a single phrase if possible. Do not provide any explanation.\\n\\nStory: {context}\\n\\nNow, answer the question based on the story asconcisely as you can, using a single phrase if possible. Do not provide any explanation.\\n\\nQuestion: {input}\\n\\nAnswer:\"\n",
    "for json_obj in tqdm(data):\n",
    "    unique_id=json_obj['document']['id']\n",
    "    temp_dict={\"context\":paper_dict[unique_id],\"input\":json_obj['question']['text']}\n",
    "    prompt=prompt_format.format(**temp_dict)\n",
    "    answer=json_obj['answers'][0]['text']\n",
    "    train_dataset.append({\n",
    "    \"instruction\": prompt,\n",
    "    \"output\": answer,\n",
    "    \"id\": unique_id\n",
    "    })\n",
    "    with open(\"/mnt/xiyu/dataset/narrativeqa_train.jsonl\", \"a\", encoding=\"utf-8\") as f:\n",
    "        json.dump({\"instruction\": prompt,\"output\": answer,\"id\": unique_id}, f, ensure_ascii=False)\n",
    "        f.write('\\n')"
   ]
  },
  {
   "cell_type": "code",
   "execution_count": 16,
   "id": "3b9a9d74-e873-4615-8764-3a7c5cb96a50",
   "metadata": {},
   "outputs": [],
   "source": [
    "with open('/mnt/qwen2.5-72B/dataset/narrativeqa_train.json', \"r\", encoding=\"utf-8\") as f:\n",
    "    paper_dict=json.load(f)"
   ]
  },
  {
   "cell_type": "code",
   "execution_count": null,
   "id": "dcd37a56-f6ef-40f0-90fd-aeea5e2ffea8",
   "metadata": {},
   "outputs": [],
   "source": []
  }
 ],
 "metadata": {
  "kernelspec": {
   "display_name": "llama_factory",
   "language": "python",
   "name": "python3"
  },
  "language_info": {
   "codemirror_mode": {
    "name": "ipython",
    "version": 3
   },
   "file_extension": ".py",
   "mimetype": "text/x-python",
   "name": "python",
   "nbconvert_exporter": "python",
   "pygments_lexer": "ipython3",
   "version": "3.10.15"
  }
 },
 "nbformat": 4,
 "nbformat_minor": 5
}
